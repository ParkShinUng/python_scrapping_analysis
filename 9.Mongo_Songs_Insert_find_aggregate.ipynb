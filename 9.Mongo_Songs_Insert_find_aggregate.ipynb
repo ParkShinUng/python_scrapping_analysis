{
 "cells": [
  {
   "cell_type": "markdown",
   "metadata": {},
   "source": [
    "### Songs 정보를 저장하고 읽고 집계하기\n",
    "1. data/songs.json 읽어서 mongodb에 저장한다.\n",
    "2. mongodb에 연결해서ㅓ DB와 Collection을 생성한다.\n",
    "3. "
   ]
  },
  {
   "cell_type": "code",
   "execution_count": 1,
   "metadata": {},
   "outputs": [
    {
     "name": "stdout",
     "output_type": "stream",
     "text": [
      "Name: pymongo\n",
      "Version: 3.11.0\n",
      "Summary: Python driver for MongoDB <http://www.mongodb.org>\n",
      "Home-page: http://github.com/mongodb/mongo-python-driver\n",
      "Author: Mike Dirolf\n",
      "Author-email: mongodb-user@googlegroups.com\n",
      "License: Apache License, Version 2.0\n",
      "Location: c:\\programdata\\anaconda3\\lib\\site-packages\n",
      "Requires: \n",
      "Required-by: \n",
      "Note: you may need to restart the kernel to use updated packages.\n"
     ]
    }
   ],
   "source": [
    "pip show pymongo"
   ]
  },
  {
   "cell_type": "code",
   "execution_count": 2,
   "metadata": {},
   "outputs": [
    {
     "name": "stdout",
     "output_type": "stream",
     "text": [
      "<class 'list'> 100\n"
     ]
    },
    {
     "data": {
      "text/plain": [
       "[{'곡명': \"DON'T TOUCH ME\",\n",
       "  '가수': '환불원정대',\n",
       "  '앨범': \"DON'T TOUCH ME\",\n",
       "  '발매일': '2020.10.10',\n",
       "  '장르': '댄스',\n",
       "  '가사': \"Trouble 이래 다 그래세 보인대 어쩔래난 멋 부리네 더 꾸미네yeah I'm a lady 못 말리네 oh불편한 말들이 또 선을 넘어난 또 보란 듯 해내서 보여줘 버려나도 사랑을 원해나도 평화가 편해하지만 모두가 you know자꾸 건드리네 don't touch mebut 내 멋대로 해blah blah blah so whatI don't care yeah yeah내 맘대로 해자꾸 건드리네 don't touch me괜찮아 걱정 마 So good 난 즐거워몇 살을 먹는대도 절대로 난 안 꿀리는 걸따라 하고 싶지 않아wanna be original남의 눈치 보지 않아자꾸 건드리네 don't touch meUhh Tell me who's hotter NadaYou dealing with afour headed monsta어디 와서 싸구려를 팔아참지 않아 you don't want no problems맘대로 맘대로 hey누가 뭐래도 나대로 hey내가 문제라면 답 없지You can look and starebut don't touch me불편한 말들이 또 선을 넘어난 또 보란 듯 해내서 보여줘 버려나도 사랑을 원해나도 평화가 편해하지만 모두가 you know자꾸 건드리네 don't touch mebut 내 멋대로 해blah blah blah so whatI don't care yeah yeah내 맘대로 해자꾸 건드리네 don't touch me괜찮아 걱정 마 So good 난 즐거워몇 살을 먹는대도 절대로 난 안 꿀리는 걸따라 하고 싶지 않아wanna be original남의 눈치 보지 않아자꾸 건드리네 don't touch me때론 눈물이 쏟아지기도 해결국 날 만든 게 눈물이기도 해 익숙해남들 신경 쓰지 마 절대로Never never 누가 뭐래도 멈추지 마자꾸 건드리네 don't touch mebut 내 멋대로 해blah blah blah so whatI don't care yeah yeah내 맘대로 해자꾸 건드리네 don't touch me괜찮아 걱정 마 So good 난 즐거워몇 살을 먹는대도 절대로 난 안 꿀리는 걸따라 하고 싶지 않아wanna be original남의 눈치 보지 않아자꾸 건드리네 don't touch me자꾸 건드리네 don't touch me\"},\n",
       " {'곡명': 'Dynamite',\n",
       "  '가수': '방탄소년단',\n",
       "  '앨범': 'Dynamite (DayTime Version)',\n",
       "  '발매일': '2020.08.24',\n",
       "  '장르': '댄스',\n",
       "  '가사': \"Cos ah ahI’m in the stars tonightSo watch me bring the fireand set the night alightShoes on get up in the mornCup of milk let’s rock and rollKing Kong kick the drumrolling on like a rolling stoneSing song when I’m walking homeJump up to the top LeBronDing dong call me on my phoneIce tea and a game of ping pongThis is getting heavyCan you hear the bass boomI’m readyLife is sweet as honeyYeah this beat cha chinglike moneyDisco overload I’m intothat I’m good to goI'm diamond you know I glow upHey so let’s goCos ah ahI’m in the stars tonightSo watch me bring the fireand set the night alightShining through the citywith a little funk and soulSo I’mma light it uplike dynamite woahBring a friend join the crowdWhoever wanna come alongWord up talk the talkjust move like we off the wallDay or night the sky’s alightSo we dance to the break of dawnLadies and gentlemenI got the medicineso you should keep yaeyes on the ball huhThis is getting heavyCan you hear the bass boomI’m readyLife is sweet as honeyYeah this beat cha chinglike moneyDisco overloadI’m into that I’m good to goI'm diamond you know I glow upLet’s goCos ah ahI’m in the stars tonightSo watch me bring the fireand set the night alightShining through the citywith a little funk and soulSo I’mma light it uplike dynamite woahDynnnnnanana life is dynamiteDynnnnnanana life is dynamiteShining through the citywith a little funk and soulSo I’mma light it uplike dynamite woahDynnnnnanana ehDynnnnnanana ehDynnnnnanana ehLight it up like dynamiteDynnnnnanana ehDynnnnnanana ehDynnnnnanana ehLight it up like dynamiteCos ah ahI’m in the stars tonightSo watch me bring the fireand set the night alightShining through the citywith a little funk and soulSo I’mma light it uplike dynamiteCos ah ahI’m in the stars tonightSo watch me bring the fireand set the night alightShining through the citywith a little funk and soulSo I’mma light it uplike dynamite woahDynnnnnanana life is dynamiteDynnnnnanana life is dynamiteShining through the citywith a little funk and soulSo I’mma light it uplike dynamite woah\"},\n",
       " {'곡명': 'Lovesick Girls',\n",
       "  '가수': 'BLACKPINK',\n",
       "  '앨범': 'THE ALBUM',\n",
       "  '발매일': '2020.10.02',\n",
       "  '장르': '댄스',\n",
       "  '가사': '영원한 밤창문 없는 방에 우릴 가둔 loveWhat can we say매번 아파도 외치는 love다치고 망가져도 나뭘 믿고 버티는 거야어차피 떠나면 상처투성인 채로 미워하게 될걸끝장을 보기 전 끝낼 순 없어이 아픔을 기다린 것처럼아마 다 잠깐 일지도 몰라우린 무얼 찾아서 헤매는 걸까But I don’t care I’ll do it over and over내 세상 속엔 너만 있으면 돼We are the lovesick girls네 멋대로 내 사랑을 끝낼순 없어We are the lovesick girls이 아픔 없인 난 아무 의미가 없어But we were born to be aloneYeah we were born to be aloneYeah we were born to be alone But why we still looking for loveNo love letters, no x and o’sNo love never, my exes knowNo diamond rings, that set in stoneTo the left, better left aloneDidn’t wanna be a princess, I’m pricelessA prince not even on my listLove is a drug that I quitNo doctor could help when I’m lovesick아마 다 잠깐 일지도 몰라우린 무얼 찾아서 헤매는 걸까불안한 내 눈빛 속에 널 담아아프더라도 너만 있으면 돼We are the lovesick girls네 멋대로 내 사랑을 끝낼 순 없어We are the lovesick girls이 아픔 없인 난 아무 의미가 없어But we were born to be aloneYeah we were born to be aloneYeah we were born to be alone But why we still looking for love사랑은 slippin’ and fallin’사랑은 killin’ your darlin’아프다 아물면 또 찾아오는 이 겁 없는 떨림들리지 않아 what you say이 아픔이 난 행복해나를 불쌍해 하는 네가 내 눈엔 더 불쌍해We are the lovesick girls네 멋대로 내 사랑을 끝낼 순 없어We are the lovesick girls이 아픔없인 난 아무 의미가 없어Lovesick girls 모두 결국 떠나가고Lovesick girls내 눈물이 무뎌져도Lovesick girls아프고 또 아파도Lovesick girlsBut we’re still looking for love'}]"
      ]
     },
     "execution_count": 2,
     "metadata": {},
     "output_type": "execute_result"
    }
   ],
   "source": [
    "import pymongo\n",
    "import json\n",
    "\n",
    "with open('data/songs.json', 'r', encoding='utf8') as file:\n",
    "    contents = file.read()\n",
    "    songs_json = json.loads(contents)\n",
    "    \n",
    "print(type(songs_json), len(songs_json))\n",
    "songs_json[0:3]"
   ]
  },
  {
   "cell_type": "code",
   "execution_count": 3,
   "metadata": {},
   "outputs": [
    {
     "name": "stdout",
     "output_type": "stream",
     "text": [
      "Connection :  MongoClient(host=['localhost:27017'], document_class=dict, tz_aware=False, connect=True)\n",
      "Database :  Database(MongoClient(host=['localhost:27017'], document_class=dict, tz_aware=False, connect=True), 'song_db')\n",
      "DB Name :  song_db\n",
      "Collection :  Collection(Database(MongoClient(host=['localhost:27017'], document_class=dict, tz_aware=False, connect=True), 'song_db'), 'songs')\n",
      "Col Name :  songs\n"
     ]
    }
   ],
   "source": [
    "# 1. MongoDB와 연결\n",
    "con = pymongo.MongoClient()\n",
    "print('Connection : ', con)\n",
    "\n",
    "#2. Database 생성\n",
    "db = con.song_db\n",
    "print('Database : ', db)\n",
    "print('DB Name : ', db.name)\n",
    "\n",
    "#3. Collection 생성\n",
    "col = db.songs\n",
    "print('Collection : ', col)\n",
    "print('Col Name : ', col.name)"
   ]
  },
  {
   "cell_type": "code",
   "execution_count": 4,
   "metadata": {},
   "outputs": [
    {
     "data": {
      "text/plain": [
       "100"
      ]
     },
     "execution_count": 4,
     "metadata": {},
     "output_type": "execute_result"
    }
   ],
   "source": [
    "# songs_json 데이터를 insert_many() 함수 사용해서 document를 등록\n",
    "col.insert_many(songs_json)\n",
    "\n",
    "# document 건수 확인\n",
    "col.count_documents({})"
   ]
  },
  {
   "cell_type": "code",
   "execution_count": 9,
   "metadata": {},
   "outputs": [
    {
     "name": "stdout",
     "output_type": "stream",
     "text": [
      "<class 'pymongo.cursor.Cursor'>\n",
      "환불원정대\n",
      "방탄소년단\n",
      "BLACKPINK\n",
      "산들\n",
      "Crush\n",
      "박진영\n",
      "임창정\n",
      "스탠딩 에그\n",
      "Jawsh 685\n",
      "제시 (Jessi)\n"
     ]
    }
   ],
   "source": [
    "print(type(col.find({})))\n",
    "for doc in col.find({})[0:10]:\n",
    "    #print(type(doc))\n",
    "    print(doc['가수'])"
   ]
  },
  {
   "cell_type": "code",
   "execution_count": 11,
   "metadata": {},
   "outputs": [
    {
     "name": "stdout",
     "output_type": "stream",
     "text": [
      "{'가수': '환불원정대', '발매일': '2020.10.10', '장르': '댄스'}\n",
      "{'가수': '방탄소년단', '발매일': '2020.08.24', '장르': '댄스'}\n",
      "{'가수': 'BLACKPINK', '발매일': '2020.10.02', '장르': '댄스'}\n",
      "{'가수': '박진영', '발매일': '2020.08.12', '장르': '댄스'}\n",
      "{'가수': '화사 (Hwa Sa)', '발매일': '2020.06.29', '장르': '댄스'}\n",
      "{'가수': '오마이걸 (OH MY GIRL)', '발매일': '2020.04.27', '장르': '댄스'}\n",
      "{'가수': '싹쓰리 (유두래곤, 린다G, 비룡)', '발매일': '2020.07.18', '장르': '댄스'}\n",
      "{'가수': '마마무 (Mamamoo)', '발매일': '2020.10.20', '장르': '댄스'}\n",
      "{'가수': '방탄소년단', '발매일': '2019.04.12', '장르': '댄스'}\n",
      "{'가수': '오마이걸 (OH MY GIRL)', '발매일': '2020.04.27', '장르': '댄스'}\n",
      "{'가수': '(여자)아이들', '발매일': '2020.08.03', '장르': '댄스'}\n",
      "{'가수': 'BLACKPINK', '발매일': '2020.08.28', '장르': '댄스'}\n",
      "{'가수': 'ITZY (있지)', '발매일': '2020.08.17', '장르': '댄스'}\n",
      "{'가수': '선미', '발매일': '2020.06.29', '장르': '댄스'}\n",
      "{'가수': '아이유', '발매일': '2020.06.19', '장르': '댄스'}\n",
      "{'가수': 'Red Velvet (레드벨벳)', '발매일': '2019.12.23', '장르': '댄스'}\n",
      "{'가수': '싹쓰리 (유두래곤, 린다G, 비룡)', '발매일': '2020.07.25', '장르': '댄스'}\n",
      "{'가수': 'BLACKPINK', '발매일': '2020.10.02', '장르': '댄스'}\n",
      "{'가수': '이수현', '발매일': '2020.10.16', '장르': '댄스'}\n",
      "{'가수': '비룡', '발매일': '2020.08.01', '장르': '댄스'}\n",
      "{'가수': 'TWICE (트와이스)', '발매일': '2020.06.01', '장르': '댄스'}\n",
      "{'가수': '마마무 (Mamamoo)', '발매일': '2019.11.14', '장르': '댄스'}\n",
      "{'가수': '유아 (오마이걸)', '발매일': '2020.09.07', '장르': '댄스'}\n",
      "{'가수': '싹쓰리 (유두래곤, 린다G, 비룡)', '발매일': '2020.07.11', '장르': '댄스'}\n",
      "{'가수': '청하', '발매일': '2020.07.06', '장르': '댄스'}\n"
     ]
    }
   ],
   "source": [
    "# 장르가 댄스인 노래의 가수, 장르, 발매일, _id는 빼고 출력\n",
    "for song in col.find({'장르':'댄스'}, {'_id':0, '가수':1, '장르':1, '발매일':1}):\n",
    "    print(song)\n",
    "    "
   ]
  },
  {
   "cell_type": "code",
   "execution_count": 20,
   "metadata": {},
   "outputs": [],
   "source": [
    "# criteria(검색조건), projection(필드)을 인자로 받아서 출력하는 함수\n",
    "def print_song(criteria, projection):\n",
    "    for idx, song in enumerate(col.find(criteria, projection), 1):\n",
    "        print(idx, song)\n"
   ]
  },
  {
   "cell_type": "code",
   "execution_count": 22,
   "metadata": {},
   "outputs": [
    {
     "name": "stdout",
     "output_type": "stream",
     "text": [
      "1 {'곡명': 'Dynamite', '가수': '방탄소년단', '발매일': '2020.08.24', '장르': '댄스'}\n",
      "2 {'곡명': '작은 것들을 위한 시 (Boy With Luv) (Feat. Halsey)', '가수': '방탄소년단', '발매일': '2019.04.12', '장르': '댄스'}\n",
      "3 {'곡명': '봄날', '가수': '방탄소년단', '발매일': '2017.02.13', '장르': '랩/힙합'}\n",
      "4 {'곡명': 'ON', '가수': '방탄소년단', '발매일': '2020.02.21', '장르': '랩/힙합'}\n",
      "5 {'곡명': '00:00 (Zero O’Clock)', '가수': '방탄소년단', '발매일': '2020.02.21', '장르': '랩/힙합'}\n"
     ]
    }
   ],
   "source": [
    "# 방탄소년단의 노래는?\n",
    "singer = '방탄소년단'\n",
    "\n",
    "criteria = {'가수':singer}\n",
    "projection = {'_id':0, '가수':1, '곡명':1, '장르':1, '발매일':1}\n",
    "\n",
    "print_song(criteria, projection)"
   ]
  },
  {
   "cell_type": "code",
   "execution_count": 23,
   "metadata": {},
   "outputs": [
    {
     "name": "stdout",
     "output_type": "stream",
     "text": [
      "1 {'곡명': 'Dynamite', '가수': '방탄소년단', '발매일': '2020.08.24', '장르': '댄스'}\n",
      "2 {'곡명': '작은 것들을 위한 시 (Boy With Luv) (Feat. Halsey)', '가수': '방탄소년단', '발매일': '2019.04.12', '장르': '댄스'}\n",
      "3 {'곡명': '모든 날, 모든 순간 (Every day, Every Moment)', '가수': '폴킴', '발매일': '2018.03.20', '장르': '발라드, 국내드라마'}\n",
      "4 {'곡명': '봄날', '가수': '방탄소년단', '발매일': '2017.02.13', '장르': '랩/힙합'}\n",
      "5 {'곡명': '안녕', '가수': '폴킴', '발매일': '2019.08.12', '장르': '발라드, 국내드라마'}\n",
      "6 {'곡명': 'ON', '가수': '방탄소년단', '발매일': '2020.02.21', '장르': '랩/힙합'}\n",
      "7 {'곡명': '너를 만나', '가수': '폴킴', '발매일': '2018.10.29', '장르': '발라드'}\n",
      "8 {'곡명': '00:00 (Zero O’Clock)', '가수': '방탄소년단', '발매일': '2020.02.21', '장르': '랩/힙합'}\n"
     ]
    }
   ],
   "source": [
    "# 방탄소년단과 폴킴의 노래는?\n",
    "criteria = {'가수':{'$in': ['방탄소년단', '폴킴']}}\n",
    "print_song(criteria, projection)"
   ]
  },
  {
   "cell_type": "code",
   "execution_count": 24,
   "metadata": {},
   "outputs": [
    {
     "name": "stdout",
     "output_type": "stream",
     "text": [
      "1 {'곡명': '아로하', '가수': '조정석', '발매일': '2020.03.27', '장르': '발라드, 국내드라마'}\n",
      "2 {'곡명': '흔들리는 꽃들 속에서 네 샴푸향이 느껴진거야', '가수': '장범준', '발매일': '2019.08.23', '장르': '록/메탈, 국내드라마'}\n",
      "3 {'곡명': '모든 날, 모든 순간 (Every day, Every Moment)', '가수': '폴킴', '발매일': '2018.03.20', '장르': '발라드, 국내드라마'}\n",
      "4 {'곡명': '사랑하게 될 줄 알았어', '가수': '전미도', '발매일': '2020.05.22', '장르': '발라드, 국내드라마'}\n",
      "5 {'곡명': '마음을 드려요', '가수': '아이유', '발매일': '2020.02.15', '장르': '발라드, 국내드라마'}\n",
      "6 {'곡명': '안녕', '가수': '폴킴', '발매일': '2019.08.12', '장르': '발라드, 국내드라마'}\n",
      "7 {'곡명': '시작', '가수': '가호 (Gaho)', '발매일': '2020.02.01', '장르': '록/메탈, 국내드라마'}\n",
      "8 {'곡명': '좋은 사람 있으면 소개시켜줘', '가수': '조이 (JOY)', '발매일': '2020.03.20', '장르': '발라드, 국내드라마'}\n",
      "9 {'곡명': '그때 그 아인', '가수': '김필', '발매일': '2020.02.15', '장르': '발라드, 국내드라마'}\n",
      "10 {'곡명': '화려하지 않은 고백', '가수': '규현 (KYUHYUN)', '발매일': '2020.04.03', '장르': '발라드, 국내드라마'}\n",
      "11 {'곡명': '너를 사랑하고 있어', '가수': '백현 (BAEKHYUN)', '발매일': '2020.01.07', '장르': '발라드, 국내드라마'}\n",
      "12 {'곡명': '밤하늘의 저 별처럼', '가수': '헤이즈 (Heize)', '발매일': '2020.09.27', '장르': 'R&B/Soul, 국내드라마'}\n"
     ]
    }
   ],
   "source": [
    "# 앨범 이름 중에 OST가 포함된 노래는?\n",
    "\n",
    "criteria = {'앨범':{'$regex':'OST' }}\n",
    "print_song(criteria, projection)"
   ]
  },
  {
   "cell_type": "code",
   "execution_count": 27,
   "metadata": {},
   "outputs": [
    {
     "name": "stdout",
     "output_type": "stream",
     "text": [
      "{'가수이름': '방탄소년단'}\n",
      "{'가수이름': 'BLACKPINK'}\n",
      "{'가수이름': '아이유'}\n",
      "{'가수이름': 'Crush'}\n",
      "{'가수이름': '싹쓰리 (유두래곤, 린다G, 비룡)'}\n",
      "{'가수이름': '폴킴'}\n",
      "{'가수이름': '오마이걸 (OH MY GIRL)'}\n",
      "{'가수이름': '오반'}\n",
      "{'가수이름': '마크툽 (MAKTUB)'}\n",
      "{'가수이름': '지코 (ZICO)'}\n",
      "{'가수이름': '규현 (KYUHYUN)'}\n",
      "{'가수이름': '임창정'}\n",
      "{'가수이름': '마마무 (Mamamoo)'}\n",
      "{'가수이름': '청하'}\n",
      "{'가수이름': '전상근'}\n",
      "{'가수이름': '엠씨더맥스 (M.C the MAX)'}\n",
      "{'가수이름': 'AKMU (악동뮤지션)'}\n",
      "{'가수이름': '바이브'}\n",
      "{'가수이름': '조정석'}\n",
      "{'가수이름': 'Dua Lipa'}\n",
      "{'가수이름': '카더가든'}\n",
      "{'가수이름': '화사 (Hwa Sa)'}\n",
      "{'가수이름': 'Ariana Grande'}\n",
      "{'가수이름': 'Jawsh 685'}\n",
      "{'가수이름': '황인욱'}\n",
      "{'가수이름': 'HYNN (박혜원)'}\n",
      "{'가수이름': 'Anne-Marie'}\n",
      "{'가수이름': '스탠딩 에그'}\n",
      "{'가수이름': 'TWICE (트와이스)'}\n",
      "{'가수이름': '이하이'}\n",
      "{'가수이름': '로꼬'}\n",
      "{'가수이름': 'Ruel'}\n",
      "{'가수이름': '노을'}\n",
      "{'가수이름': 'Sam Smith'}\n",
      "{'가수이름': '창모 (CHANGMO)'}\n",
      "{'가수이름': '신예영'}\n",
      "{'가수이름': '김준수'}\n",
      "{'가수이름': '조이 (JOY)'}\n",
      "{'가수이름': '이수현'}\n",
      "{'가수이름': '선미'}\n",
      "{'가수이름': 'Lauv'}\n",
      "{'가수이름': '비룡'}\n",
      "{'가수이름': '유아 (오마이걸)'}\n",
      "{'가수이름': '백현 (BAEKHYUN)'}\n",
      "{'가수이름': 'Etham'}\n",
      "{'가수이름': '먼데이 키즈 (Monday Kiz)'}\n",
      "{'가수이름': '송하예'}\n",
      "{'가수이름': '환불원정대'}\n",
      "{'가수이름': '진민호'}\n",
      "{'가수이름': '헤이즈 (Heize)'}\n",
      "{'가수이름': '가호 (Gaho)'}\n",
      "{'가수이름': 'Tones And I'}\n",
      "{'가수이름': '순순희'}\n",
      "{'가수이름': '블루 (BLOO)'}\n",
      "{'가수이름': '김필'}\n",
      "{'가수이름': 'Red Velvet (레드벨벳)'}\n",
      "{'가수이름': '신용재 (2F)'}\n",
      "{'가수이름': '장범준'}\n",
      "{'가수이름': '전미도'}\n",
      "{'가수이름': 'Billie Eilish'}\n",
      "{'가수이름': '제시 (Jessi)'}\n",
      "{'가수이름': '정은지'}\n",
      "{'가수이름': '(여자)아이들'}\n",
      "{'가수이름': '임영웅'}\n",
      "{'가수이름': '박진영'}\n",
      "{'가수이름': 'Maroon 5'}\n",
      "{'가수이름': '백지영'}\n",
      "{'가수이름': '볼빨간사춘기'}\n",
      "{'가수이름': '산들'}\n",
      "{'가수이름': 'ITZY (있지)'}\n",
      "{'가수이름': 'Conan Gray'}\n"
     ]
    }
   ],
   "source": [
    "# 가수별로 노래가 몇 곡이나 있는지?\n",
    "# def \n",
    "\n",
    "for song in col.aggregate([\n",
    "    {\n",
    "        '$group':{\n",
    "            '_id':'$가수',\n",
    "            'song_cnt':{'$sum':1}\n",
    "        }\n",
    "    },\n",
    "    {\n",
    "        '$sort':{'song_cnt':-1}\n",
    "    },\n",
    "    {\n",
    "        '$project':{\n",
    "            '가수이름':'$_id',\n",
    "            '_id':0,\n",
    "            '노래개수':1\n",
    "        }\n",
    "    }\n",
    "]):\n",
    "    print(song)"
   ]
  },
  {
   "cell_type": "code",
   "execution_count": 28,
   "metadata": {},
   "outputs": [],
   "source": [
    "# def print_song_aggregate():"
   ]
  },
  {
   "cell_type": "code",
   "execution_count": 31,
   "metadata": {},
   "outputs": [
    {
     "name": "stdout",
     "output_type": "stream",
     "text": [
      "{'_id': '댄스', '노래개수': 25}\n",
      "{'_id': '발라드', '노래개수': 22}\n",
      "{'_id': 'POP', '노래개수': 13}\n",
      "{'_id': '랩/힙합', '노래개수': 11}\n",
      "{'_id': '발라드, 국내드라마', '노래개수': 9}\n",
      "{'_id': 'R&B/Soul', '노래개수': 4}\n",
      "{'_id': '록/메탈', '노래개수': 3}\n",
      "{'_id': '랩/힙합, 인디음악', '노래개수': 3}\n",
      "{'_id': '인디음악, 포크/블루스', '노래개수': 2}\n",
      "{'_id': 'R&B/Soul, 인디음악', '노래개수': 2}\n",
      "{'_id': '록/메탈, 국내드라마', '노래개수': 2}\n",
      "{'_id': 'R&B/Soul, 국내드라마', '노래개수': 1}\n",
      "{'_id': '재즈, 애시드/퓨전/팝', '노래개수': 1}\n",
      "{'_id': '발라드, 인디음악', '노래개수': 1}\n",
      "{'_id': '성인가요', '노래개수': 1}\n"
     ]
    }
   ],
   "source": [
    "group = {\n",
    "    '$group':{\n",
    "        '_id':'$장르',\n",
    "        '노래개수':{'$sum':1}\n",
    "    }\n",
    "}\n",
    "\n",
    "sort = {\n",
    "    '$sort':{'노래개수':-1}\n",
    "}\n",
    "\n",
    "project = {\n",
    "    '$project':{\n",
    "        '장르':,\n",
    "        ''\n",
    "    }\n",
    "}\n",
    "\n",
    "for song in col.aggregate([\n",
    "    group, sort\n",
    "]):\n",
    "    print(song)"
   ]
  },
  {
   "cell_type": "code",
   "execution_count": null,
   "metadata": {},
   "outputs": [],
   "source": []
  }
 ],
 "metadata": {
  "kernelspec": {
   "display_name": "Python 3",
   "language": "python",
   "name": "python3"
  },
  "language_info": {
   "codemirror_mode": {
    "name": "ipython",
    "version": 3
   },
   "file_extension": ".py",
   "mimetype": "text/x-python",
   "name": "python",
   "nbconvert_exporter": "python",
   "pygments_lexer": "ipython3",
   "version": "3.8.3"
  }
 },
 "nbformat": 4,
 "nbformat_minor": 4
}
