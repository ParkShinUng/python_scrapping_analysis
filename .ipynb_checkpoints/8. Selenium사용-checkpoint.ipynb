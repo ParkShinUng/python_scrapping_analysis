{
 "cells": [
  {
   "cell_type": "code",
   "execution_count": 2,
   "metadata": {},
   "outputs": [
    {
     "name": "stdout",
     "output_type": "stream",
     "text": [
      "Name: selenium\n",
      "Version: 3.141.0\n",
      "Summary: Python bindings for Selenium\n",
      "Home-page: https://github.com/SeleniumHQ/selenium/\n",
      "Author: UNKNOWN\n",
      "Author-email: UNKNOWN\n",
      "License: Apache 2.0\n",
      "Location: c:\\programdata\\anaconda3\\lib\\site-packages\n",
      "Requires: urllib3\n",
      "Required-by: \n",
      "Note: you may need to restart the kernel to use updated packages.\n"
     ]
    }
   ],
   "source": [
    "pip show selenium"
   ]
  },
  {
   "cell_type": "markdown",
   "metadata": {},
   "source": [
    "### WebDriver 의 Chrome 객체 생성\n",
    "* python.org 웹사이트로 요청을 보내기\n",
    "* Pypi 메뉴를 클릭해서 pypi.org/ 웹사이트로 이동하기"
   ]
  },
  {
   "cell_type": "code",
   "execution_count": 50,
   "metadata": {},
   "outputs": [],
   "source": [
    "from selenium import webdriver\n",
    "import time\n",
    "\n",
    "request_url = 'https://www.python.org/'\n",
    "\n",
    "driver = webdriver.Chrome('./chromedriver') # chrome dirver의 경로 지정하여 웹드라이버 객체 생성\n",
    "driver.implicitly_wait(3) # 암묵적으로 웹 자원 로드를 위해 최대 3초 기다린다.\n",
    "driver.get(request_url) # url에 접근\n",
    "\n",
    "li_tags = driver.find_elements_by_css_selector('div#menu ul.menu li')\n",
    "\n",
    "for li_tag in li_tags:\n",
    "    if li_tag.text == 'PyPI':\n",
    "        li_tag.click()\n",
    "        \n",
    "time.sleep(5) # 5초로 waiting time 설정\n",
    "\n",
    "driver.close() # driver 종료 # = driver.quit()"
   ]
  },
  {
   "cell_type": "markdown",
   "metadata": {},
   "source": [
    "### 네이버 포털의 image를 save 해보기"
   ]
  },
  {
   "cell_type": "code",
   "execution_count": null,
   "metadata": {},
   "outputs": [],
   "source": [
    "from selenium import webdriver\n",
    "import time\n",
    "\n",
    "request_url = 'https://www.naver.com'\n",
    "\n",
    "driver = webdriverbdriver.Chrome('./chromedriver')\n",
    "driver.implicity_wait(3)\n",
    "driver.get(request_url)\n",
    "driver.save_screenshot('img/naver.png')\n",
    "\n",
    "time.sleep(3)\n",
    "driver.quit()"
   ]
  },
  {
   "cell_type": "markdown",
   "metadata": {},
   "source": [
    "### 네이버 포털에 파이썬 검색어를 입력\n",
    "* 검색어를 입력하고 \n",
    "* 검색된 결과중에서 지식인에 검색된 링크를 클릭"
   ]
  },
  {
   "cell_type": "code",
   "execution_count": 49,
   "metadata": {},
   "outputs": [],
   "source": [
    "from selenium import webdriver\n",
    "from selenium.webdriver.common.keys import Keys\n",
    "import time\n",
    "\n",
    "query = '파이썬'\n",
    "\n",
    "driver = webdriver.Chrome('./chromedriver.exe') # webdriver에 포함된 Chrome 객체 생성\n",
    "driver.get('https://www.naver.com') # 네이버 포털에 요청 보내기\n",
    "search_tag = driver.find_element_by_css_selector('input#query') # 검색어 엘리먼트\n",
    "search_tag.send_keys(query) # 검색창에 파이썬이라는 키워드 입력\n",
    "search_tag.send_keys(Keys.ENTER) # = search_tag.submit() # Enter 실행\n",
    "time.sleep(2)\n",
    "\n",
    "a_tags = driver.find_elements_by_css_selector('a.tit') # 검색된 결과 중에서 a tag 엘리먼트 가져오기\n",
    "\n",
    "# 첫 번째 a tag 선택하고, click() 함수 호출\n",
    "for a_tag in a_tags:\n",
    "    if a_tag.text == '파이썬':\n",
    "        a_tag.click()\n",
    "\n",
    "time.sleep(3) # 지연시간 3초로 설정\n",
    "driver.quit() # driver 종료"
   ]
  },
  {
   "cell_type": "markdown",
   "metadata": {},
   "source": [
    "### Daum 포털 로그인 / 로그아웃\n",
    "\n",
    "* id 와 password를 입력하고 패스워드 필드에서 엔터를 치거나 로그인 버튼 클릭해서 로그인\n",
    "* 로그인 후에 이름과 메일건수를 알아내기\n",
    "* 로그아웃 버튼 클릭해서 로그아웃"
   ]
  },
  {
   "cell_type": "code",
   "execution_count": 65,
   "metadata": {},
   "outputs": [
    {
     "name": "stdout",
     "output_type": "stream",
     "text": [
      "name : 박신웅님, mail count : 0\n"
     ]
    }
   ],
   "source": [
    "from selenium import webdriver\n",
    "from selenium.webdriver.common.keys import Keys\n",
    "import time\n",
    "\n",
    "request_url = 'https://logins.daum.net/accounts/signinform.do'\n",
    "\n",
    "driver = webdriver.Chrome('./chromedriver.exe') # webdriver에 포함된 Chrome 객체 생성\n",
    "driver.implicitly_wait(2) # 웹 리소스 로딩을 위해 2초 대기\n",
    "driver.get(request_url) # 네이버 포털에 요청 보내기\n",
    "\n",
    "__id_tag = driver.find_element_by_css_selector('input#id') # 검색어 엘리먼트\n",
    "__pw_tag = driver.find_element_by_css_selector('input#inputPwd')\n",
    "\n",
    "__id_tag.send_keys('tlsdnd001')\n",
    "__pw_tag.send_keys('qlqjqlqj8520')\n",
    "\n",
    "driver.find_element_by_css_selector('button#loginBtn').click()\n",
    "\n",
    "name = driver.find_element_by_css_selector('a.name_user').text\n",
    "mail_count = driver.find_element_by_css_selector('a.link_num').text\n",
    "print(f'name : {name}, mail count : {mail_count}')\n",
    "\n",
    "driver.find_element_by_css_selector('a.btn_logout').click()\n",
    "\n",
    "time.sleep(2)\n",
    "#driver.quit()"
   ]
  },
  {
   "cell_type": "code",
   "execution_count": null,
   "metadata": {},
   "outputs": [],
   "source": []
  }
 ],
 "metadata": {
  "kernelspec": {
   "display_name": "Python 3",
   "language": "python",
   "name": "python3"
  },
  "language_info": {
   "codemirror_mode": {
    "name": "ipython",
    "version": 3
   },
   "file_extension": ".py",
   "mimetype": "text/x-python",
   "name": "python",
   "nbconvert_exporter": "python",
   "pygments_lexer": "ipython3",
   "version": "3.8.3"
  }
 },
 "nbformat": 4,
 "nbformat_minor": 4
}
