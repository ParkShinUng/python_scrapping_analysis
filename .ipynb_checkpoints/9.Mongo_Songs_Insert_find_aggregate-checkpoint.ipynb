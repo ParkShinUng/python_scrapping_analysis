{
 "cells": [
  {
   "cell_type": "markdown",
   "metadata": {},
   "source": [
    "### Songs 정보를 저장하고 읽고 집계하기\n",
    "1. data/songs.json 읽어서 mongodb에 저장한다.\n",
    "2. mongodb에 연결해서ㅓ DB와 Collection을 생성한다.\n",
    "3. "
   ]
  },
  {
   "cell_type": "code",
   "execution_count": 3,
   "metadata": {},
   "outputs": [
    {
     "name": "stdout",
     "output_type": "stream",
     "text": [
      "Name: pymongo\n",
      "Version: 3.11.0\n",
      "Summary: Python driver for MongoDB <http://www.mongodb.org>\n",
      "Home-page: http://github.com/mongodb/mongo-python-driver\n",
      "Author: Mike Dirolf\n",
      "Author-email: mongodb-user@googlegroups.com\n",
      "License: Apache License, Version 2.0\n",
      "Location: c:\\programdata\\anaconda3\\lib\\site-packages\n",
      "Requires: \n",
      "Required-by: \n",
      "Note: you may need to restart the kernel to use updated packages.\n"
     ]
    }
   ],
   "source": [
    "pip show pymongo"
   ]
  },
  {
   "cell_type": "code",
   "execution_count": 4,
   "metadata": {},
   "outputs": [
    {
     "name": "stdout",
     "output_type": "stream",
     "text": [
      "<class 'list'> 100\n"
     ]
    },
    {
     "data": {
      "text/plain": [
       "[{'곡명': \"DON'T TOUCH ME\",\n",
       "  '가수': '환불원정대',\n",
       "  '앨범': \"DON'T TOUCH ME\",\n",
       "  '발매일': '2020.10.10',\n",
       "  '장르': '댄스',\n",
       "  '가사': \"Trouble 이래 다 그래세 보인대 어쩔래난 멋 부리네 더 꾸미네yeah I'm a lady 못 말리네 oh불편한 말들이 또 선을 넘어난 또 보란 듯 해내서 보여줘 버려나도 사랑을 원해나도 평화가 편해하지만 모두가 you know자꾸 건드리네 don't touch mebut 내 멋대로 해blah blah blah so whatI don't care yeah yeah내 맘대로 해자꾸 건드리네 don't touch me괜찮아 걱정 마 So good 난 즐거워몇 살을 먹는대도 절대로 난 안 꿀리는 걸따라 하고 싶지 않아wanna be original남의 눈치 보지 않아자꾸 건드리네 don't touch meUhh Tell me who's hotter NadaYou dealing with afour headed monsta어디 와서 싸구려를 팔아참지 않아 you don't want no problems맘대로 맘대로 hey누가 뭐래도 나대로 hey내가 문제라면 답 없지You can look and starebut don't touch me불편한 말들이 또 선을 넘어난 또 보란 듯 해내서 보여줘 버려나도 사랑을 원해나도 평화가 편해하지만 모두가 you know자꾸 건드리네 don't touch mebut 내 멋대로 해blah blah blah so whatI don't care yeah yeah내 맘대로 해자꾸 건드리네 don't touch me괜찮아 걱정 마 So good 난 즐거워몇 살을 먹는대도 절대로 난 안 꿀리는 걸따라 하고 싶지 않아wanna be original남의 눈치 보지 않아자꾸 건드리네 don't touch me때론 눈물이 쏟아지기도 해결국 날 만든 게 눈물이기도 해 익숙해남들 신경 쓰지 마 절대로Never never 누가 뭐래도 멈추지 마자꾸 건드리네 don't touch mebut 내 멋대로 해blah blah blah so whatI don't care yeah yeah내 맘대로 해자꾸 건드리네 don't touch me괜찮아 걱정 마 So good 난 즐거워몇 살을 먹는대도 절대로 난 안 꿀리는 걸따라 하고 싶지 않아wanna be original남의 눈치 보지 않아자꾸 건드리네 don't touch me자꾸 건드리네 don't touch me\"},\n",
       " {'곡명': 'Dynamite',\n",
       "  '가수': '방탄소년단',\n",
       "  '앨범': 'Dynamite (DayTime Version)',\n",
       "  '발매일': '2020.08.24',\n",
       "  '장르': '댄스',\n",
       "  '가사': \"Cos ah ahI’m in the stars tonightSo watch me bring the fireand set the night alightShoes on get up in the mornCup of milk let’s rock and rollKing Kong kick the drumrolling on like a rolling stoneSing song when I’m walking homeJump up to the top LeBronDing dong call me on my phoneIce tea and a game of ping pongThis is getting heavyCan you hear the bass boomI’m readyLife is sweet as honeyYeah this beat cha chinglike moneyDisco overload I’m intothat I’m good to goI'm diamond you know I glow upHey so let’s goCos ah ahI’m in the stars tonightSo watch me bring the fireand set the night alightShining through the citywith a little funk and soulSo I’mma light it uplike dynamite woahBring a friend join the crowdWhoever wanna come alongWord up talk the talkjust move like we off the wallDay or night the sky’s alightSo we dance to the break of dawnLadies and gentlemenI got the medicineso you should keep yaeyes on the ball huhThis is getting heavyCan you hear the bass boomI’m readyLife is sweet as honeyYeah this beat cha chinglike moneyDisco overloadI’m into that I’m good to goI'm diamond you know I glow upLet’s goCos ah ahI’m in the stars tonightSo watch me bring the fireand set the night alightShining through the citywith a little funk and soulSo I’mma light it uplike dynamite woahDynnnnnanana life is dynamiteDynnnnnanana life is dynamiteShining through the citywith a little funk and soulSo I’mma light it uplike dynamite woahDynnnnnanana ehDynnnnnanana ehDynnnnnanana ehLight it up like dynamiteDynnnnnanana ehDynnnnnanana ehDynnnnnanana ehLight it up like dynamiteCos ah ahI’m in the stars tonightSo watch me bring the fireand set the night alightShining through the citywith a little funk and soulSo I’mma light it uplike dynamiteCos ah ahI’m in the stars tonightSo watch me bring the fireand set the night alightShining through the citywith a little funk and soulSo I’mma light it uplike dynamite woahDynnnnnanana life is dynamiteDynnnnnanana life is dynamiteShining through the citywith a little funk and soulSo I’mma light it uplike dynamite woah\"},\n",
       " {'곡명': 'Lovesick Girls',\n",
       "  '가수': 'BLACKPINK',\n",
       "  '앨범': 'THE ALBUM',\n",
       "  '발매일': '2020.10.02',\n",
       "  '장르': '댄스',\n",
       "  '가사': '영원한 밤창문 없는 방에 우릴 가둔 loveWhat can we say매번 아파도 외치는 love다치고 망가져도 나뭘 믿고 버티는 거야어차피 떠나면 상처투성인 채로 미워하게 될걸끝장을 보기 전 끝낼 순 없어이 아픔을 기다린 것처럼아마 다 잠깐 일지도 몰라우린 무얼 찾아서 헤매는 걸까But I don’t care I’ll do it over and over내 세상 속엔 너만 있으면 돼We are the lovesick girls네 멋대로 내 사랑을 끝낼순 없어We are the lovesick girls이 아픔 없인 난 아무 의미가 없어But we were born to be aloneYeah we were born to be aloneYeah we were born to be alone But why we still looking for loveNo love letters, no x and o’sNo love never, my exes knowNo diamond rings, that set in stoneTo the left, better left aloneDidn’t wanna be a princess, I’m pricelessA prince not even on my listLove is a drug that I quitNo doctor could help when I’m lovesick아마 다 잠깐 일지도 몰라우린 무얼 찾아서 헤매는 걸까불안한 내 눈빛 속에 널 담아아프더라도 너만 있으면 돼We are the lovesick girls네 멋대로 내 사랑을 끝낼 순 없어We are the lovesick girls이 아픔 없인 난 아무 의미가 없어But we were born to be aloneYeah we were born to be aloneYeah we were born to be alone But why we still looking for love사랑은 slippin’ and fallin’사랑은 killin’ your darlin’아프다 아물면 또 찾아오는 이 겁 없는 떨림들리지 않아 what you say이 아픔이 난 행복해나를 불쌍해 하는 네가 내 눈엔 더 불쌍해We are the lovesick girls네 멋대로 내 사랑을 끝낼 순 없어We are the lovesick girls이 아픔없인 난 아무 의미가 없어Lovesick girls 모두 결국 떠나가고Lovesick girls내 눈물이 무뎌져도Lovesick girls아프고 또 아파도Lovesick girlsBut we’re still looking for love'}]"
      ]
     },
     "execution_count": 4,
     "metadata": {},
     "output_type": "execute_result"
    }
   ],
   "source": [
    "import pymongo\n",
    "import json\n",
    "\n",
    "with open('data/songs.json', 'r', encoding='utf8') as file:\n",
    "    contents = file.read()\n",
    "    songs_json = json.loads(contents)\n",
    "    \n",
    "print(type(songs_json), len(songs_json))\n",
    "songs_json[0:3]"
   ]
  },
  {
   "cell_type": "code",
   "execution_count": 7,
   "metadata": {},
   "outputs": [
    {
     "name": "stdout",
     "output_type": "stream",
     "text": [
      "Connection :  MongoClient(host=['localhost:27017'], document_class=dict, tz_aware=False, connect=True)\n",
      "Database :  Database(MongoClient(host=['localhost:27017'], document_class=dict, tz_aware=False, connect=True), 'song_db')\n",
      "DB Name :  song_db\n",
      "Collection :  Collection(Database(MongoClient(host=['localhost:27017'], document_class=dict, tz_aware=False, connect=True), 'song_db'), 'songs')\n",
      "Col Name :  songs\n"
     ]
    }
   ],
   "source": [
    "# 1. MongoDB와 연결\n",
    "con = pymongo.MongoClient()\n",
    "print('Connection : ', con)\n",
    "\n",
    "#2. Database 생성\n",
    "db = con.song_db\n",
    "print('Database : ', db)\n",
    "print('DB Name : ', db.name)\n",
    "\n",
    "#3. Collection 생성\n",
    "col = db.songs\n",
    "print('Collection : ', col)\n",
    "print('Col Name : ', col.name)"
   ]
  },
  {
   "cell_type": "code",
   "execution_count": null,
   "metadata": {},
   "outputs": [],
   "source": []
  }
 ],
 "metadata": {
  "kernelspec": {
   "display_name": "Python 3",
   "language": "python",
   "name": "python3"
  },
  "language_info": {
   "codemirror_mode": {
    "name": "ipython",
    "version": 3
   },
   "file_extension": ".py",
   "mimetype": "text/x-python",
   "name": "python",
   "nbconvert_exporter": "python",
   "pygments_lexer": "ipython3",
   "version": "3.8.3"
  }
 },
 "nbformat": 4,
 "nbformat_minor": 4
}
