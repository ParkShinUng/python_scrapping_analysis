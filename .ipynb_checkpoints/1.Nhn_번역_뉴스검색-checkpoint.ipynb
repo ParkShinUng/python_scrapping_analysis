{
 "cells": [
  {
   "cell_type": "markdown",
   "metadata": {},
   "source": [
    "### 네이버 Papago 서비스 사용\n",
    "* 파이썬 기본 urllib 라이브러리 사용"
   ]
  },
  {
   "cell_type": "code",
   "execution_count": 4,
   "metadata": {},
   "outputs": [
    {
     "name": "stdout",
     "output_type": "stream",
     "text": [
      "{\"message\":{\"@type\":\"response\",\"@service\":\"naverservice.nmt.proxy\",\"@version\":\"1.0.0\",\"result\":{\"srcLangType\":\"en\",\"tarLangType\":\"ko\",\"translatedText\":\"어제 나의 모든 고민들은 너무나 멀리 떨어져 있는 것 같았다.\",\"engineType\":\"N2MT\",\"pivot\":null}}}\n"
     ]
    }
   ],
   "source": [
    "# 네이버 Papago NMT API 예제\n",
    "import os\n",
    "import sys\n",
    "import urllib.request\n",
    "\n",
    "client_id = \"VN1HmalocbZc2999BxRc\"\n",
    "client_secret = \"3qw7Vvy0ri\"\n",
    "encText = urllib.parse.quote(\"Yesterday all my troubles seemed so far away.\")\n",
    "data = \"source=en&target=ko&text=\" + encText\n",
    "url = \"https://openapi.naver.com/v1/papago/n2mt\"\n",
    "request = urllib.request.Request(url)\n",
    "request.add_header(\"X-Naver-Client-Id\",client_id)\n",
    "request.add_header(\"X-Naver-Client-Secret\",client_secret)\n",
    "response = urllib.request.urlopen(request, data=data.encode(\"utf-8\"))\n",
    "rescode = response.getcode()\n",
    "if(rescode==200):\n",
    "    response_body = response.read()\n",
    "    print(response_body.decode('utf-8'))\n",
    "else:\n",
    "    print(\"Error Code:\" + rescode)"
   ]
  },
  {
   "cell_type": "markdown",
   "metadata": {},
   "source": [
    "* requests 라이브러리를 사용"
   ]
  },
  {
   "cell_type": "code",
   "execution_count": 5,
   "metadata": {},
   "outputs": [
    {
     "name": "stdout",
     "output_type": "stream",
     "text": [
      "<class 'requests.models.Response'>\n",
      "200 True\n",
      "응답헤더 {'Server': 'nginx', 'Date': 'Fri, 16 Oct 2020 01:25:19 GMT', 'Content-Type': 'application/json; charset=UTF-8', 'Content-Length': '221', 'Connection': 'keep-alive', 'Keep-Alive': 'timeout=5', 'X-QUOTA': '45', 'Content-Encoding': 'gzip'}\n",
      "요청헤더 {'User-Agent': 'python-requests/2.24.0', 'Accept-Encoding': 'gzip, deflate', 'Accept': '*/*', 'Connection': 'keep-alive', 'X-Naver-Client-Id': 'mJAaMfhD3hNaYk6MgyV2', 'X-Naver-Client-Secret': 'Gt4J1hqbYU', 'Content-Length': '73', 'Content-Type': 'application/x-www-form-urlencoded'}\n"
     ]
    }
   ],
   "source": [
    "import requests\n",
    "\n",
    "client_id = \"VN1HmalocbZc2999BxRc\"\n",
    "client_secret = \"3qw7Vvy0ri\"\n",
    "enc_text = \"Yesterday all my troubles seemed so far away.\"\n",
    "url = \"https://openapi.naver.com/v1/papago/n2mt\"\n",
    "\n",
    "#request header 값 선언\n",
    "req_header = {\n",
    "    \"X-Naver-Client-Id\":client_id,\n",
    "    \"X-Naver-Client-Secret\":client_secret\n",
    "}\n",
    "#request form data 값 선언\n",
    "req_data = {\n",
    "    \"source\":\"en\",\n",
    "    \"target\":\"zh-CN\",\n",
    "    \"text\":enc_text\n",
    "}\n",
    "\n",
    "#request 보내기 ,post() 함수 호출\n",
    "res = requests.post(url, data=req_data, headers=req_header)\n",
    "print(type(res))\n",
    "print(res.status_code, res.ok)\n",
    "print('응답헤더',res.headers)\n",
    "print('요청헤더',res.request.headers)\n"
   ]
  },
  {
   "cell_type": "code",
   "execution_count": 6,
   "metadata": {},
   "outputs": [
    {
     "name": "stdout",
     "output_type": "stream",
     "text": [
      "<class 'str'>\n",
      "응답 Text  {\"message\":{\"@type\":\"response\",\"@service\":\"naverservice.nmt.proxy\",\"@version\":\"1.0.0\",\"result\":{\"srcLangType\":\"en\",\"tarLangType\":\"zh-CN\",\"translatedText\":\"昨天,我所有的烦恼似乎都离我太远了。\",\"engineType\":\"N2MT\",\"pivot\":null}}}\n"
     ]
    }
   ],
   "source": [
    "if res.ok:\n",
    "    print(type(res.text))\n",
    "    print('응답 Text ', res.text)\n",
    "else:\n",
    "    print('Status Code :', res.status_code)"
   ]
  },
  {
   "cell_type": "code",
   "execution_count": 7,
   "metadata": {},
   "outputs": [
    {
     "name": "stdout",
     "output_type": "stream",
     "text": [
      "<class 'dict'>\n",
      "{'message': {'@type': 'response', '@service': 'naverservice.nmt.proxy', '@version': '1.0.0', 'result': {'srcLangType': 'en', 'tarLangType': 'zh-CN', 'translatedText': '昨天,我所有的烦恼似乎都离我太远了。', 'engineType': 'N2MT', 'pivot': None}}}\n"
     ]
    }
   ],
   "source": [
    "if res.ok:\n",
    "    result_json = res.json()\n",
    "    print(type(result_json))\n",
    "    print(result_json)"
   ]
  },
  {
   "cell_type": "code",
   "execution_count": 8,
   "metadata": {},
   "outputs": [
    {
     "name": "stdout",
     "output_type": "stream",
     "text": [
      "昨天,我所有的烦恼似乎都离我太远了。\n"
     ]
    }
   ],
   "source": [
    "print(result_json['message']['result']['translatedText'])"
   ]
  },
  {
   "cell_type": "markdown",
   "metadata": {},
   "source": [
    "### 네이버 검색 서비스\n",
    "* urllib 사용"
   ]
  },
  {
   "cell_type": "code",
   "execution_count": 9,
   "metadata": {},
   "outputs": [],
   "source": [
    "import os\n",
    "import sys\n",
    "import urllib.request\n",
    "\n",
    "client_id = \"VN1HmalocbZc2999BxRc\"\n",
    "client_secret = \"3qw7Vvy0ri\"\n",
    "\n",
    "encText = urllib.parse.quote(\"파이썬\")\n",
    "url = \"https://openapi.naver.com/v1/search/blog?query=\" + encText # json 결과\n",
    "# url = \"https://openapi.naver.com/v1/search/blog.xml?query=\" + encText # xml 결과\n",
    "request = urllib.request.Request(url)\n",
    "request.add_header(\"X-Naver-Client-Id\",client_id)\n",
    "request.add_header(\"X-Naver-Client-Secret\",client_secret)\n",
    "response = urllib.request.urlopen(request)\n",
    "rescode = response.getcode()\n",
    "if(rescode==200):\n",
    "    response_body = response.read()\n",
    "    #print(response_body.decode('utf-8'))\n",
    "else:\n",
    "    print(\"Error Code:\" + rescode)"
   ]
  },
  {
   "cell_type": "markdown",
   "metadata": {},
   "source": [
    "* 검색 서비스를 requests 사용하는 것으로 변경"
   ]
  },
  {
   "cell_type": "code",
   "execution_count": 10,
   "metadata": {},
   "outputs": [
    {
     "name": "stdout",
     "output_type": "stream",
     "text": [
      "200 True\n",
      "{\n",
      "\"lastBuildDate\": \"Fri, 16 Oct 2020 10:25:20 +0900\",\n",
      "\"total\": 177094,\n",
      "\"start\": 1,\n",
      "\"display\": 10,\n",
      "\"items\": [\n",
      "{\n",
      "\"title\": \"<b>파이썬</b> 학원 완벽한 선정절차!\",\n",
      "\"link\": \"https:\\/\\/blog.naver.com\\/km_y?Redirect=Log&logNo=222116783166\",\n",
      "\"description\": \"독학은 어림도 없었고, 저와 같이 평소부터 컴퓨터를 잘 다루는 편이 아닌 입문자들이 가장 많이 시작하고 찾는다는 <b>파이썬</b> 학원으로 발걸음을 향했어요. 알아보니 <b>파이썬</b> 학원은 굉장히 많더라구요. 선택지가... \",\n",
      "\"bloggername\": \"김과장 블로그\",\n",
      "\"bloggerlink\": \"https://blog.naver.com/km_y\",\n",
      "\"postdate\": \"20201015\"\n",
      "\n",
      "},\n",
      "{\n",
      "\"title\": \"<b>파이썬</b>(Phython)이 스타트업에게 인기있는 이유 7가지\",\n",
      "\"link\": \"http://blog.wishket.com/%ED%8C%8C%EC%9D%B4%EC%8D%ACpython%EC%9D%B4-%EC%8A%A4%ED%83%80%ED%8A%B8%EC%97%85%EC%97%90%EA%B2%8C-%EC%9D%B8%EA%B8%B0%EC%9E%88%EB%8A%94-%EC%9D%B4%EC%9C%A0-7%EA%B0%80%EC%A7%80/\",\n",
      "\"description\": \"<b>파이썬</b>(Python)이 스타트업에게 인기있는 이유 7가지 Facebook Twitter 안녕하세요. 위시켓입니다.... 그렇기 때문에 <b>파이썬</b>(Python)과 같은 강력하면서도 기반이 튼튼한 기술을 사용하는 것이 가장 좋습니다.... \",\n",
      "\"bloggername\": \"프리랜서 가이드 – Wishket\",\n",
      "\"bloggerlink\": \"http://blog.wishket.com/\",\n",
      "\"postdate\": \"20200831\"\n",
      "\n",
      "},\n",
      "{\n",
      "\"title\": \"<b>파이썬</b> 학원 확연히 다른 스킬 강좌!\",\n",
      "\"link\": \"https:\\/\\/blog.naver.com\\/hmiya00?Redirect=Log&logNo=222114719683\",\n",
      "\"description\": \"오늘은 <b>파이썬</b> 학원을 소개해 드릴까 합니다. 저는 어렸을 때부터 기계나 컴퓨터에 관심이 많았어요.... 다행히 제가 다녔던 <b>파이썬</b> 학원은 국비 지원을 통해 금전적인 부담을 조금 덜고 수업을 들을 수 있어서... \",\n",
      "\"bloggername\": \"한시라도 빨리 떠나시게\",\n",
      "\"bloggerlink\": \"https://blog.naver.com/hmiya00\",\n",
      "\"postdate\": \"20201013\"\n",
      "\n",
      "},\n",
      "{\n",
      "\"title\": \"<b>파이썬</b> 학원 비교와 선택의 기준!\",\n",
      "\"link\": \"https:\\/\\/blog.naver.com\\/likedelma?Redirect=Log&logNo=222043548217\",\n",
      "\"description\": \"이미 기본 사무 업무에 종사를 하는 직장인, 이직을 목적으로 퇴사를 결정한 분들이 <b>파이썬</b> 학원에... 기본적으로 <b>파이썬</b> 학원에 다니게 되면 가장 베이직한 과정으로 한 달간 수료를 할 수 있는데, 프로그래밍에... \",\n",
      "\"bloggername\": \"보리의 공부일지\",\n",
      "\"bloggerlink\": \"https://blog.naver.com/likedelma\",\n",
      "\"postdate\": \"20200728\"\n",
      "\n",
      "},\n",
      "{\n",
      "\"title\": \"[P056] <b>파이썬</b>의 정형화된 출력형식(Formatted Output... \",\n",
      "\"link\": \"https:\\/\\/blog.naver.com\\/choi_s_h?Redirect=Log&logNo=222103125184\",\n",
      "\"description\": \"<b>파이썬</b>의 형식지정자(숫자를 출력할 때의 자릿수)에 대해서는, [P008] https://blog.naver.com/choi_s_h/221259316543에서 간략하게 맛을 보았지만 <b>파이썬</b>에는 출력형식을 지정하는 많은 방법들이 있고, 이번... \",\n",
      "\"bloggername\": \"Common Sense, Science & Engineering\",\n",
      "\"bloggerlink\": \"https://blog.naver.com/choi_s_h\",\n",
      "\"postdate\": \"20200929\"\n",
      "\n",
      "},\n",
      "{\n",
      "\"title\": \"강남<b>파이썬</b>학원 입문이 어렵다고요?\",\n",
      "\"link\": \"https:\\/\\/blog.naver.com\\/kimbg20?Redirect=Log&logNo=222115621942\",\n",
      "\"description\": \"최근 기사에 따르면 프로그래밍 언어 순위에서 <b>파이썬</b>이 자바를 이기고 있다는 이야기가 나오고 있습니다 이 말은 즉 <b>파이썬</b>이 빠르게 성장하고 있고 많은 기업에서 이 언어를 사용하고 있다는 뜻이죠 자바는... \",\n",
      "\"bloggername\": \"아름다운 세상아 같이 빨려들자~~\",\n",
      "\"bloggerlink\": \"https://blog.naver.com/kimbg20\",\n",
      "\"postdate\": \"20201014\"\n",
      "\n",
      "},\n",
      "{\n",
      "\"title\": \"<b>파이썬</b>과 함께 한 지난 4주간 학습 내용 정리\",\n",
      "\"link\": \"https:\\/\\/blog.naver.com\\/annerheekim?Redirect=Log&logNo=222073420438\",\n",
      "\"description\": \"소논문을 제출한 다음 날인 7월 28일, <b>파이썬</b>을 설치하느라 고전하는 것으로 <b>파이썬</b>과의 인연이 시작되었고요. 8월 1일에 경사대 특강을 마친 후 8월 2일에 아나콘다와 주피터 노트북을 깔고 본격적인 공부를... \",\n",
      "\"bloggername\": \"길벗(Gilbert)의 앤(Anne) @ Wuxi & Shanghai\",\n",
      "\"bloggerlink\": \"https://blog.naver.com/annerheekim\",\n",
      "\"postdate\": \"20200828\"\n",
      "\n",
      "},\n",
      "{\n",
      "\"title\": \"<b>파이썬</b> 학원 더 늦기 전에 도전!\",\n",
      "\"link\": \"https:\\/\\/blog.naver.com\\/jcy0207?Redirect=Log&logNo=222038541815\",\n",
      "\"description\": \"그래서 <b>파이썬</b> 학원을 찾는 분들이 늘어가도 있습니다. 특히나 이전에 컴퓨터 쪽에서 공부를 하신... 다른 <b>파이썬</b> 학원에 찾아가 본다고 하더라도 이 곳 이상으로 좋은 환경인 곳을 찾기는 어려울 거라... \",\n",
      "\"bloggername\": \"모아의 교육정보 모아모아\",\n",
      "\"bloggerlink\": \"https://blog.naver.com/jcy0207\",\n",
      "\"postdate\": \"20200722\"\n",
      "\n",
      "},\n",
      "{\n",
      "\"title\": \"자바 <b>파이썬</b> 입문 언어 승자는?\",\n",
      "\"link\": \"https:\\/\\/blog.naver.com\\/skh556?Redirect=Log&logNo=222038807263\",\n",
      "\"description\": \"그중에서도 우선순위 1순위, 2순위를 다투는 자바 <b>파이썬</b> 비교 분석을 하는 포스팅을 하려고 합니다.... 다음은 최근 새롭게 뜨고 있는 <b>파이썬</b>에 대해서 알아볼까요? &lt; 출처 : <b>파이썬</b> 홈페이지 &gt; <b>파 이 썬</b> <b>파이썬</b>은... \",\n",
      "\"bloggername\": \"우렁찬한우의 힘찬 블로그\",\n",
      "\"bloggerlink\": \"https://blog.naver.com/skh556\",\n",
      "\"postdate\": \"20200723\"\n",
      "\n",
      "},\n",
      "{\n",
      "\"title\": \"<b>파이썬</b>학원 차근차근 커리어를 쌓아요!\",\n",
      "\"link\": \"https:\\/\\/blog.naver.com\\/jiyun4846?Redirect=Log&logNo=222116343153\",\n",
      "\"description\": \"그래서 <b>파이썬</b>학원을 알아보기 시작했어요. 이것저것 따져보며 꼼꼼하게 체크했는데 그중... <b>파이썬</b> 학원을 알아볼 때 가장 중요하게 생각하는 것 중 하나가 바로 아카데미에서 배운 것이 실무에 도움이... \",\n",
      "\"bloggername\": \"HI,GRAY [ : 하이,그레이 ] nail & candle\",\n",
      "\"bloggerlink\": \"https://blog.naver.com/jiyun4846\",\n",
      "\"postdate\": \"20201015\"\n",
      "\n",
      "}\n",
      "]\n",
      "}\n",
      "\n"
     ]
    }
   ],
   "source": [
    "import requests\n",
    "\n",
    "keyword = \"파이썬\"\n",
    "\n",
    "client_id = \"VN1HmalocbZc2999BxRc\"\n",
    "client_secret = \"3qw7Vvy0ri\"\n",
    "\n",
    "url = \"https://openapi.naver.com/v1/search/blog\"\n",
    "\n",
    "req_header = {\n",
    "    \"X-Naver-Client-Id\":client_id,\n",
    "    \"X-Naver-Client-Secret\":client_secret\n",
    "}\n",
    "\n",
    "req_data = {\n",
    "    \"query\":keyword\n",
    "}\n",
    "\n",
    "res = requests.get(url, params=req_data, headers=req_header)\n",
    "print(res.status_code, res.ok)\n",
    "print(res.text)"
   ]
  },
  {
   "cell_type": "code",
   "execution_count": 11,
   "metadata": {},
   "outputs": [],
   "source": [
    "def search_service(kind,keyword,display_count):\n",
    "    import requests\n",
    "\n",
    "    client_id = \"VN1HmalocbZc2999BxRc\"\n",
    "    client_secret = \"3qw7Vvy0ri\"\n",
    "\n",
    "    url = f\"https://openapi.naver.com/v1/search/{kind}.json\"\n",
    "\n",
    "    req_header = {\n",
    "        \"X-Naver-Client-Id\":client_id,\n",
    "        \"X-Naver-Client-Secret\":client_secret\n",
    "    }\n",
    "\n",
    "    req_data = {\n",
    "        \"query\":keyword,\n",
    "        \"display\":display_count\n",
    "    }\n",
    "\n",
    "    res = requests.get(url, params=req_data, headers=req_header)\n",
    "    #print(res.status_code, res.ok)\n",
    "    #print(res.text)\n",
    "    json_data = res.json()\n",
    "    #print(type(json_data['items']))\n",
    "    item_list = json_data['items']\n",
    "    #print(len(item_list))\n",
    "    \n",
    "    result_list = []\n",
    "    for item in item_list:\n",
    "        #print(type(item))\n",
    "        #print(item)\n",
    "        result_list.append(item)\n",
    "    return result_list\n",
    "\n",
    "#search_service(\"자바\",2)    "
   ]
  },
  {
   "cell_type": "code",
   "execution_count": 12,
   "metadata": {},
   "outputs": [
    {
     "name": "stdout",
     "output_type": "stream",
     "text": [
      "[{'title': '이것이 취업을 위한 코딩 테스트다 with <b>파이썬</b> (취업과 이직을 결정하는 알고리즘 인터뷰 완벽 가이드, C/C++, 자바 코드 제공)', 'link': 'http://book.naver.com/bookdb/book_detail.php?bid=16439154', 'image': 'https://bookthumb-phinf.pstatic.net/cover/164/391/16439154.jpg?type=m1&udate=20200928', 'author': '나동빈', 'price': '34000', 'discount': '30600', 'publisher': '한빛미디어', 'pubdate': '20200805', 'isbn': '1162243074 9791162243077', 'description': '8가지 핵심 알고리즘 이론을 쉽게 설명하고, 관련 실전 문제를 풀이했다. 출제 유형 분석, 이론 설명, 기출문제 풀이까지! 어떤 코딩 테스트도 이 책 한 권으로 대비할 수 있을 것이다. 코딩 테스트에서 주로 선택하는 <b>파이썬</b>을 기반으로 설명되어 있으며, <b>파이썬</b> 코드 외에도 C/C++, 자바 코드를 추가로 제공한다.'}, {'title': '<b>파이썬</b> 알고리즘 인터뷰 (95가지 알고리즘 문제 풀이로 완성하는 코딩 테스트)', 'link': 'http://book.naver.com/bookdb/book_detail.php?bid=16406247', 'image': 'https://bookthumb-phinf.pstatic.net/cover/164/062/16406247.jpg?type=m1&udate=20200915', 'author': '박상길', 'price': '38000', 'discount': '34200', 'publisher': '책만', 'pubdate': '20200715', 'isbn': '1189909170 9791189909178', 'description': '물론, <b>파이썬</b>으로 구현하는 코드 풀이를 통해 성능 최적화 기법, <b>파이썬</b>의 핵심 문법과 다양한 실용 테크닉까지 배울 수 있는, 초보 개발자와 숙련 개발자... 이 책은 현업과 실무에 유용한 주요 알고리즘 이론을 깊숙이 이해하고, <b>파이썬</b>의 핵심 기능과 문법까지 상세하게 이해할 수 있는 취업용 코딩 테스트를... '}, {'title': '혼자 공부하는 <b>파이썬</b> (<b>파이썬</b> 최신 버전 반영)', 'link': 'http://book.naver.com/bookdb/book_detail.php?bid=15028688', 'image': 'https://bookthumb-phinf.pstatic.net/cover/150/286/15028688.jpg?type=m1&udate=20200915', 'author': '윤인성', 'price': '18000', 'discount': '16200', 'publisher': '한빛미디어', 'pubdate': '20190610', 'isbn': '1162241888 9791162241882', 'description': '1:1 과외하듯 배우는 <b>파이썬</b> 프로그래밍 자습서(<b>파이썬</b> 최신 버전 반영)\\n이 책은 독학으로 프로그래밍 언어를 처음 배우려는 입문자가, 혹은 <b>파이썬</b>을 배우려는 입문자가 ‘꼭 필요한 내용을 제대로’ 학습할 수 있도록 구성했다. ‘무엇을’, ‘어떻게’ 학습해야 할지조차 모르는 입문자의 막연한 마음을 살펴... '}]\n"
     ]
    }
   ],
   "source": [
    "my_list = search_service(\"book\",\"파이썬\",3)\n",
    "print(my_list)"
   ]
  },
  {
   "cell_type": "code",
   "execution_count": 13,
   "metadata": {},
   "outputs": [
    {
     "name": "stdout",
     "output_type": "stream",
     "text": [
      "{'title': '핸즈온 <b>머신러닝</b>(2판) (사이킷런, 케라스, 텐서플로 2를 활용한 <b>머신러닝</b>, 딥러닝 완벽 실무)', 'link': 'http://book.naver.com/bookdb/book_detail.php?bid=16328592', 'image': 'https://bookthumb-phinf.pstatic.net/cover/163/285/16328592.jpg?type=m1&udate=20201005', 'author': '오렐리앙 제롱', 'price': '55000', 'discount': '49500', 'publisher': '한빛미디어', 'pubdate': '20200504', 'isbn': '1162242965 9791162242964', 'description': '컬러판으로 돌아온 아마존 인공지능 분야 부동의 1위 도서\\n이 책은 지능형 시스템을 구축하려면 반드시 알아야 할 <b>머신러닝</b>, 딥러닝 분야 핵심 개념과 이론을 이해하기 쉽게 설명한다. 사이킷런, 케라스, 텐서플로를 이용해 실전에서 바로 활용 가능한 예제로 모델을 훈련하고 신경망을 구축하는 방법을... '}\n",
      "{'title': '파이썬 <b>머신러닝</b> 완벽 가이드 (다양한 캐글 예제와 함께 기초 알고리즘부터 최신 기법까지 배우는)', 'link': 'http://book.naver.com/bookdb/book_detail.php?bid=16238302', 'image': 'https://bookthumb-phinf.pstatic.net/cover/162/383/16238302.jpg?type=m1&udate=20200423', 'author': '권철민', 'price': '38000', 'discount': '34200', 'publisher': '위키북스', 'pubdate': '20200207', 'isbn': '1158391927 9791158391928', 'description': '자세한 이론 설명과 파이썬 실습을 통해 <b>머신러닝</b>을 완벽하게 배울 수 있습니다!《파이썬 <b>머신러닝</b> 완벽 가이드》는 이론 위주의 <b>머신러닝</b> 책에서 탈피해 다양한 실전 예제를 직접 구현해 보면서 <b>머신러닝</b>을 체득할 수 있도록 만들었습니다.  캐글과 UCI <b>머신러닝</b> 리포지토리에서 난이도가 있는 실습... '}\n",
      "{'title': '<b>머신 러닝</b> 교과서 with 파이썬, 사이킷런, 텐서플로', 'link': 'http://book.naver.com/bookdb/book_detail.php?bid=14922892', 'image': 'https://bookthumb-phinf.pstatic.net/cover/149/228/14922892.jpg?type=m1&udate=20200423', 'author': '세바스찬 라시카|바히드 미자리리', 'price': '33000', 'discount': '29700', 'publisher': '길벗', 'pubdate': '20190524', 'isbn': '1160507961 9791160507966', 'description': '아마존 <b>머신 러닝</b> 분야 베스트셀러!\\n기본기에 충실한 <b>머신 러닝</b> 입문서코드 실행만으로는 <b>머신 러닝</b>을 충분히 이해할 수 없다. <b>머신 러닝</b>을 제대로 이해하고 싶다면 코드 외에도 <b>머신 러닝</b> 이론과 <b>머신 러닝</b> 알고리즘의 뒤편에 있는 수학 개념을 알아야 한다. 이 책은 이해를 돕는 개념 설명, <b>머신 러닝</b>... '}\n"
     ]
    }
   ],
   "source": [
    "result_list = search_service('book','머신러닝',3)\n",
    "for result in result_list:\n",
    "    print(result)"
   ]
  },
  {
   "cell_type": "code",
   "execution_count": 14,
   "metadata": {
    "scrolled": true
   },
   "outputs": [
    {
     "name": "stdout",
     "output_type": "stream",
     "text": [
      ">>> 분야 : blog\n",
      "{'title': '인공지능(<b>딥러닝</b>)의 정의와 사례', 'link': 'https://blog.naver.com/infopub?Redirect=Log&logNo=222114155013', 'description': '이에는 머신러닝, <b>딥러닝</b>이 모두 포함돼 있습니다. 그중에서도 우리는 인공지능의 획기적인 발전을 이끈 <b>딥러닝</b>에 대해 자세히 알아보겠습니다. 또한 <b>딥러닝</b>은 무엇이고 그 종류에는 어떤 것이... ', 'bloggername': 'IT 서적의 명가', 'bloggerlink': 'https://blog.naver.com/infopub', 'postdate': '20201013'}\n",
      "{'title': '이해 #1 – 주요 역사와 개념 정리(feat. 머신러닝, <b>딥러닝</b>)', 'link': 'https://blog.naver.com/skinfosec2000?Redirect=Log&logNo=222029239340', 'description': '오늘은 4차 산업혁명 시대의 핵심 기술이라 불리는 인공지능의 주요 역사와 특징 그리고 머신러닝과 <b>딥러닝</b>의 차이에 대해 알아보겠습니다. ‘인공지능(AI, Artificial Intelligence)’이란? 인공지능은... ', 'bloggername': 'SK인포섹(주) 공식블로그', 'bloggerlink': 'https://blog.naver.com/skinfosec2000', 'postdate': '20200713'}\n",
      ">>> 분야 : book\n",
      "{'title': '모두의 <b>딥러닝</b>(개정판 2판) (자연어 처리, GAN, 오토인코더, 전이 학습 등으로 나만의 모델을 만든다 with 텐서플로2.0 & 케라스)', 'link': 'http://book.naver.com/bookdb/book_detail.php?bid=16215446', 'image': 'https://bookthumb-phinf.pstatic.net/cover/162/154/16215446.jpg?type=m1&udate=20200825', 'author': '조태호', 'price': '24000', 'discount': '21600', 'publisher': '길벗', 'pubdate': '20200127', 'isbn': '1165210398 9791165210397', 'description': '<b>딥러닝</b> 기초부터 최신 트렌드까지 한 권으로 공부하자\\n그동안 <b>딥러닝</b> 입문서로 제 역할을 톡톡히 해낸 『모두의 <b>딥러닝</b>』이 최근 주목받는 주제들을 담아 기존 내용을 보강하여 개정 2판으로 돌아왔다. 초판에서 다루지 않았던 GAN, 오토인코더, 자연어 처리, 전이 학습 등 새로운 내용을 수록하였고, <b>딥러닝</b>을... '}\n",
      "{'title': '밑바닥부터 시작하는 <b>딥러닝</b> 2 (파이썬으로 직접 구현하며 배우는 순환 신경망과 자연어 처리)', 'link': 'http://book.naver.com/bookdb/book_detail.php?bid=14797086', 'image': 'https://bookthumb-phinf.pstatic.net/cover/147/970/14797086.jpg?type=m1&udate=20200423', 'author': '사이토 고키', 'price': '29000', 'discount': '26100', 'publisher': '한빛미디어', 'pubdate': '20190501', 'isbn': '1162241748 9791162241745', 'description': '직접 구현하면서 배우는 본격 <b>딥러닝</b> 입문서\\n이번에는 순환 신경망과 자연어 처리다!이 책은 『밑바닥부터 시작하는 <b>딥러닝</b>』에서 다루지 못했던 순환 신경망(RNN)을 자연어 처리와 시계열 데이터 처리에 사용하는 <b>딥러닝</b> 기술에 초점을 맞춰 살펴본다. 8장 구성으로 전체를 하나의 이야기처럼 순서대로 읽도록... '}\n",
      ">>> 분야 : news\n",
      "{'title': '알체라, 상장 목표로 증권 신고서 제출', 'originallink': 'http://www.newsworks.co.kr/news/articleView.html?idxno=495375', 'link': 'http://www.newsworks.co.kr/news/articleView.html?idxno=495375', 'description': '대용량 영상 데이터 수집·편집부터 <b>딥러닝</b> 학습, 인공지능 엔진 최적화, 운용 앱 제작까지 전 과정의 토탈 솔루션을 제공하고 있다. 알체라의 핵심 기술은 얼굴인식 AI, 이상상황 감지 AI 기술이다. 해당 기술은\\xa02개... ', 'pubDate': 'Fri, 16 Oct 2020 10:14:00 +0900'}\n",
      "{'title': \"스웨덴 린셔핑大, '엔비디아 DGX 슈퍼POD'로 AI 슈퍼컴퓨터 구축\", 'originallink': 'http://www.datanet.co.kr/news/articleView.html?idxno=151721', 'link': 'http://www.datanet.co.kr/news/articleView.html?idxno=151721', 'description': '스웨덴 출신의 저명한 과학자이자 현대 화학의 선구자로 꼽히는 야코브 베르셀리우스(Jacob Berzelius)의 이름을 딴 베르셀리우스 슈퍼컴퓨터는 300페타플롭(PF)의 AI 성능으로 최첨단 AI 연구 및 <b>딥러닝</b> 모델을... ', 'pubDate': 'Fri, 16 Oct 2020 10:12:00 +0900'}\n"
     ]
    }
   ],
   "source": [
    "kind_list = ['blog','book','news']\n",
    "for kind in kind_list:\n",
    "    print(f'>>> 분야 : {kind}')\n",
    "    for item in search_service(kind,'딥러닝',2):\n",
    "        print(item)"
   ]
  },
  {
   "cell_type": "markdown",
   "metadata": {},
   "source": [
    "# Papago 서비스 사용\n",
    "* yesterday.txt 가사 파일의 내용을 읽어서 list에 저장\n",
    "* list에 있는 내용을 번역 서비스 요청\n",
    "* 서비스 응답 결과를 다시 파일에 쓰기"
   ]
  },
  {
   "cell_type": "code",
   "execution_count": 46,
   "metadata": {},
   "outputs": [
    {
     "name": "stdout",
     "output_type": "stream",
     "text": [
      "['사실 알고 있지만 연인이라는 것은', '만남과 헤어짐이 있지만 그댄 만남만 있길', '', '바쁜 일상 속에서 그 동안 많이 외로웠었죠', '저기 빛나는 달을 안아주는 구름처럼', '그댈 혼자 두지 않을게', '', '사랑한다고 앞으로 그대와 함께 보낼', '많은 시간에 난 행복해져서', '항상 감사해요 이렇게 예쁜 그대를', '내 곁에 둘 수 있음에', '', '고된 일상 속에서 그 동안 많이 지쳤었나요', '저기 빛나는 달을 자랑하는 별들처럼', '그대 편이 되어줄게요', '', '사랑한다고 앞으로 그대와 함께 보낼', '많은 시간에 난 행복해져서', '항상 감사해요 이렇게 예쁜 그대를', '내 곁에 둘 수 있음에', '', '늘 내게 과분한 사람 그대 어떤 말로도 설명 못할', '소중한 그대에게 내 마음을 전해주려면 떨어져 있을 시간 없어', '', '사랑한다고 앞으로 그대와 함께', '', '사랑한다고 앞으로 그대와 함께 보낼', '많은 시간에 난 행복해져서', '', '항상 감사해요 이렇게 예쁜 그대를', '내 곁에 둘 수 있음에']\n",
      ">> 번역 시작\n",
      "사실 알고 있지만 연인이라는 것은\n",
      "Actually, I know, but being a couple,\n",
      "만남과 헤어짐이 있지만 그댄 만남만 있길\n",
      "Meetings and breakups, but only you.\n",
      "바쁜 일상 속에서 그 동안 많이 외로웠었죠\n",
      "I've been very lonely in my busy life.\n",
      "저기 빛나는 달을 안아주는 구름처럼\n",
      "Like a cloud holding the shining moon over there.\n",
      "그댈 혼자 두지 않을게\n",
      "I won't leave you alone.\n",
      "사랑한다고 앞으로 그대와 함께 보낼\n",
      "I love you and I will spend time with you in the future.\n",
      "많은 시간에 난 행복해져서\n",
      "A lot of time, I've become happy.\n",
      "항상 감사해요 이렇게 예쁜 그대를\n",
      "I always thank you for being so beautiful.\n",
      "내 곁에 둘 수 있음에\n",
      "I can keep him by my side.\n",
      "고된 일상 속에서 그 동안 많이 지쳤었나요\n",
      "Have you been exhausted in your daily life?\n",
      "저기 빛나는 달을 자랑하는 별들처럼\n",
      "Just like the stars that boast the shining moon.\n",
      "그대 편이 되어줄게요\n",
      "I'll be on your side.\n",
      "사랑한다고 앞으로 그대와 함께 보낼\n",
      "I love you and I will spend time with you in the future.\n",
      "많은 시간에 난 행복해져서\n",
      "A lot of time, I've become happy.\n",
      "항상 감사해요 이렇게 예쁜 그대를\n",
      "I always thank you for being so beautiful.\n",
      "내 곁에 둘 수 있음에\n",
      "I can keep him by my side.\n",
      "늘 내게 과분한 사람 그대 어떤 말로도 설명 못할\n",
      "You're always too good for me. You can't explain anything.\n",
      "소중한 그대에게 내 마음을 전해주려면 떨어져 있을 시간 없어\n",
      "I don't have time to stay away from you if I want to deliver my heart to you, dear.\n",
      "사랑한다고 앞으로 그대와 함께\n",
      "I love you. With you from now.\n",
      "사랑한다고 앞으로 그대와 함께 보낼\n",
      "I love you and I will spend time with you in the future.\n",
      "많은 시간에 난 행복해져서\n",
      "A lot of time, I've become happy.\n",
      "항상 감사해요 이렇게 예쁜 그대를\n",
      "I always thank you for being so beautiful.\n",
      "내 곁에 둘 수 있음에\n",
      "I can keep him by my side.\n",
      ">> 번역 종료\n"
     ]
    }
   ],
   "source": [
    "import requests \n",
    "\n",
    "lyric_in = 'data/만남만있길.txt'\n",
    "lyric_out = 'data/trans_Rmie.txt'\n",
    "source_lan = 'ko'\n",
    "target_lan = 'en'\n",
    "\n",
    "def translyric_savefile(trnas_list, lyric_out):\n",
    "    with open(lyric_out, 'w', encoding='utf-8') as file:\n",
    "        file.writelines(trnas_list)\n",
    "        file.close()\n",
    "\n",
    "# yesterday.txt 가사 파일의 내용을 읽어서 list에 저장\n",
    "def get_text_savelist(lyric_in):\n",
    "    lyric_list = []\n",
    "    with open(lyric_in, 'r', encoding='utf-8') as file:\n",
    "        contents = file.read()\n",
    "        lyric_list = contents.split('\\n')\n",
    "    \n",
    "    return lyric_list\n",
    "\n",
    "def main(lyric_in, lyric_out):\n",
    "    client_id = \"ghGazz8q4kPEp6RCCcLP\"\n",
    "    client_secret = \"z7_NRFkZUT\"\n",
    "    \n",
    "    url = \"https://openapi.naver.com/v1/papago/n2mt\"\n",
    "\n",
    "    #request header 값 선언\n",
    "    req_header = {\n",
    "        \"X-Naver-Client-Id\":client_id,\n",
    "        \"X-Naver-Client-Secret\":client_secret\n",
    "    }\n",
    "    \n",
    "    # yesterday.txt 가사 파일의 내용을 읽어서 list에 저장\n",
    "    lyric_list = get_text_savelist(lyric_in)\n",
    "    \n",
    "    lyric_list = [lyric for lyric in lyric_list if len(lyric) != 0]\n",
    "    \n",
    "    trans_list = []\n",
    "    print('>> 번역 시작')\n",
    "    \n",
    "    for req_lyric in lyric_list:   \n",
    "        print(req_lyric)\n",
    "        #request form data 값 선언\n",
    "        req_data = {\n",
    "            \"source\":source_lan,\n",
    "            \"target\":target_lan,\n",
    "            \"text\":req_lyric\n",
    "        }\n",
    "        # papago 서비스 요청, post\n",
    "        res = requests.post(url, data=req_data, headers=req_header)\n",
    "        \n",
    "        try:\n",
    "            trans_lyric = res.json()['message']['result']['translatedText']\n",
    "        except Exception as err:\n",
    "            print(err.status_code)\n",
    "        else:\n",
    "            print(trans_lyric)\n",
    "        trans_list.append(req_lyric+'\\n')\n",
    "        trans_list.append(trans_lyric+'\\n')\n",
    "        \n",
    "    translyric_savefile(trans_list, lyric_out)\n",
    "    print('>> 번역 종료')\n",
    "main(lyric_in, lyric_out)"
   ]
  },
  {
   "cell_type": "code",
   "execution_count": null,
   "metadata": {},
   "outputs": [],
   "source": []
  }
 ],
 "metadata": {
  "kernelspec": {
   "display_name": "Python 3",
   "language": "python",
   "name": "python3"
  },
  "language_info": {
   "codemirror_mode": {
    "name": "ipython",
    "version": 3
   },
   "file_extension": ".py",
   "mimetype": "text/x-python",
   "name": "python",
   "nbconvert_exporter": "python",
   "pygments_lexer": "ipython3",
   "version": "3.8.3"
  }
 },
 "nbformat": 4,
 "nbformat_minor": 4
}
