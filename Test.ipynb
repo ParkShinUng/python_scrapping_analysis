{
 "cells": [
  {
   "cell_type": "code",
   "execution_count": 48,
   "metadata": {},
   "outputs": [
    {
     "name": "stdout",
     "output_type": "stream",
     "text": [
      "200\n",
      "<?xml version=\"1.0\" encoding=\"UTF-8\" standalone=\"yes\"?><response><header><resultCode>99</resultCode><resultMsg>SERVICE KEY IS NOT REGISTERED ERROR.</resultMsg></header></response>\n",
      "<?xml version=\"1.0\" encoding=\"UTF-8\" standalone=\"yes\"?><response><header><resultCode>99</resultCode><resultMsg>SERVICE KEY IS NOT REGISTERED ERROR.</resultMsg></header></response>\n"
     ]
    }
   ],
   "source": [
    "import requests\n",
    "from urllib.parse import urljoin\n",
    "\n",
    "url = 'http://openapi.customs.go.kr/openapi/service/newTradestatistics/getNitemtradeList'\n",
    "Service_Key = 'UTV8d0EsP3QVEKZeuprcT%2BxDhyy5pJjY%2B73v9VipZcSoLsTsftgFSm3RLAxw6gzii1YhQUkoAWyZxmh1d74vXw%3D%3D'\n",
    "\n",
    "\n",
    "a_params = {\n",
    "    'ServiceKey': 'UTV8d0EsP3QVEKZeuprcT%2BxDhyy5pJjY%2B73v9VipZcSoLsTsftgFSm3RLAxw6gzii1YhQUkoAWyZxmh1d74vXw%3D%3D',\n",
    "    'searchBgnDe': '201601',\n",
    "    'searchEndDe': '201601'\n",
    "}\n",
    "\n",
    "res = requests.get(url, params=a_params)\n",
    "\n",
    "print(res.status_code)\n",
    "if res.ok:\n",
    "    html = res.text\n",
    "    print(html)\n",
    "    print(res.text)"
   ]
  },
  {
   "cell_type": "code",
   "execution_count": 32,
   "metadata": {},
   "outputs": [
    {
     "data": {
      "text/plain": [
       "ParseResult(scheme='http', netloc='www.cwi.nl:80', path='/%7Eguido/Python.html', params='', query='', fragment='')"
      ]
     },
     "execution_count": 32,
     "metadata": {},
     "output_type": "execute_result"
    }
   ],
   "source": [
    "from urllib.parse import urlparse\n",
    "o = urlparse('http://www.cwi.nl:80/%7Eguido/Python.html')\n",
    "o"
   ]
  },
  {
   "cell_type": "code",
   "execution_count": null,
   "metadata": {},
   "outputs": [],
   "source": []
  }
 ],
 "metadata": {
  "kernelspec": {
   "display_name": "Python 3",
   "language": "python",
   "name": "python3"
  },
  "language_info": {
   "codemirror_mode": {
    "name": "ipython",
    "version": 3
   },
   "file_extension": ".py",
   "mimetype": "text/x-python",
   "name": "python",
   "nbconvert_exporter": "python",
   "pygments_lexer": "ipython3",
   "version": "3.8.3"
  }
 },
 "nbformat": 4,
 "nbformat_minor": 4
}
